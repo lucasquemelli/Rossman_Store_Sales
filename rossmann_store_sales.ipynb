{
 "cells": [
  {
   "cell_type": "markdown",
   "id": "53e79f5c",
   "metadata": {},
   "source": [
    "# Libraries"
   ]
  },
  {
   "cell_type": "code",
   "execution_count": 182,
   "id": "f620d689",
   "metadata": {},
   "outputs": [],
   "source": [
    "import math\n",
    "import pandas as pd\n",
    "import numpy as np\n",
    "import inflection \n",
    "import seaborn as sns\n",
    "from matplotlib import pyplot as plt\n",
    "from IPython.display import Image"
   ]
  },
  {
   "cell_type": "markdown",
   "id": "380263a0",
   "metadata": {},
   "source": [
    "### Helper Functions"
   ]
  },
  {
   "cell_type": "code",
   "execution_count": null,
   "id": "843a80d3",
   "metadata": {},
   "outputs": [],
   "source": []
  },
  {
   "cell_type": "markdown",
   "id": "d74827b7",
   "metadata": {},
   "source": [
    "### Loading Data"
   ]
  },
  {
   "cell_type": "markdown",
   "id": "f8884173",
   "metadata": {},
   "source": [
    "Firstly, we are going to check all datasets out. We must verify what kind of fields there are in every dataset. "
   ]
  },
  {
   "cell_type": "code",
   "execution_count": 6,
   "id": "05561715",
   "metadata": {},
   "outputs": [
    {
     "data": {
      "text/html": [
       "<div>\n",
       "<style scoped>\n",
       "    .dataframe tbody tr th:only-of-type {\n",
       "        vertical-align: middle;\n",
       "    }\n",
       "\n",
       "    .dataframe tbody tr th {\n",
       "        vertical-align: top;\n",
       "    }\n",
       "\n",
       "    .dataframe thead th {\n",
       "        text-align: right;\n",
       "    }\n",
       "</style>\n",
       "<table border=\"1\" class=\"dataframe\">\n",
       "  <thead>\n",
       "    <tr style=\"text-align: right;\">\n",
       "      <th></th>\n",
       "      <th>Store</th>\n",
       "      <th>DayOfWeek</th>\n",
       "      <th>Date</th>\n",
       "      <th>Sales</th>\n",
       "      <th>Customers</th>\n",
       "      <th>Open</th>\n",
       "      <th>Promo</th>\n",
       "      <th>StateHoliday</th>\n",
       "      <th>SchoolHoliday</th>\n",
       "    </tr>\n",
       "  </thead>\n",
       "  <tbody>\n",
       "    <tr>\n",
       "      <th>0</th>\n",
       "      <td>1</td>\n",
       "      <td>5</td>\n",
       "      <td>2015-07-31</td>\n",
       "      <td>5263</td>\n",
       "      <td>555</td>\n",
       "      <td>1</td>\n",
       "      <td>1</td>\n",
       "      <td>0</td>\n",
       "      <td>1</td>\n",
       "    </tr>\n",
       "    <tr>\n",
       "      <th>1</th>\n",
       "      <td>2</td>\n",
       "      <td>5</td>\n",
       "      <td>2015-07-31</td>\n",
       "      <td>6064</td>\n",
       "      <td>625</td>\n",
       "      <td>1</td>\n",
       "      <td>1</td>\n",
       "      <td>0</td>\n",
       "      <td>1</td>\n",
       "    </tr>\n",
       "    <tr>\n",
       "      <th>2</th>\n",
       "      <td>3</td>\n",
       "      <td>5</td>\n",
       "      <td>2015-07-31</td>\n",
       "      <td>8314</td>\n",
       "      <td>821</td>\n",
       "      <td>1</td>\n",
       "      <td>1</td>\n",
       "      <td>0</td>\n",
       "      <td>1</td>\n",
       "    </tr>\n",
       "    <tr>\n",
       "      <th>3</th>\n",
       "      <td>4</td>\n",
       "      <td>5</td>\n",
       "      <td>2015-07-31</td>\n",
       "      <td>13995</td>\n",
       "      <td>1498</td>\n",
       "      <td>1</td>\n",
       "      <td>1</td>\n",
       "      <td>0</td>\n",
       "      <td>1</td>\n",
       "    </tr>\n",
       "    <tr>\n",
       "      <th>4</th>\n",
       "      <td>5</td>\n",
       "      <td>5</td>\n",
       "      <td>2015-07-31</td>\n",
       "      <td>4822</td>\n",
       "      <td>559</td>\n",
       "      <td>1</td>\n",
       "      <td>1</td>\n",
       "      <td>0</td>\n",
       "      <td>1</td>\n",
       "    </tr>\n",
       "  </tbody>\n",
       "</table>\n",
       "</div>"
      ],
      "text/plain": [
       "   Store  DayOfWeek        Date  Sales  Customers  Open  Promo StateHoliday  \\\n",
       "0      1          5  2015-07-31   5263        555     1      1            0   \n",
       "1      2          5  2015-07-31   6064        625     1      1            0   \n",
       "2      3          5  2015-07-31   8314        821     1      1            0   \n",
       "3      4          5  2015-07-31  13995       1498     1      1            0   \n",
       "4      5          5  2015-07-31   4822        559     1      1            0   \n",
       "\n",
       "   SchoolHoliday  \n",
       "0              1  \n",
       "1              1  \n",
       "2              1  \n",
       "3              1  \n",
       "4              1  "
      ]
     },
     "execution_count": 6,
     "metadata": {},
     "output_type": "execute_result"
    }
   ],
   "source": [
    "data_raw_train = pd.read_csv(\"datasets/train.csv\", low_memory=False)\n",
    "data_raw_train.head()"
   ]
  },
  {
   "cell_type": "code",
   "execution_count": 7,
   "id": "481f79ef",
   "metadata": {},
   "outputs": [
    {
     "data": {
      "text/html": [
       "<div>\n",
       "<style scoped>\n",
       "    .dataframe tbody tr th:only-of-type {\n",
       "        vertical-align: middle;\n",
       "    }\n",
       "\n",
       "    .dataframe tbody tr th {\n",
       "        vertical-align: top;\n",
       "    }\n",
       "\n",
       "    .dataframe thead th {\n",
       "        text-align: right;\n",
       "    }\n",
       "</style>\n",
       "<table border=\"1\" class=\"dataframe\">\n",
       "  <thead>\n",
       "    <tr style=\"text-align: right;\">\n",
       "      <th></th>\n",
       "      <th>Id</th>\n",
       "      <th>Store</th>\n",
       "      <th>DayOfWeek</th>\n",
       "      <th>Date</th>\n",
       "      <th>Open</th>\n",
       "      <th>Promo</th>\n",
       "      <th>StateHoliday</th>\n",
       "      <th>SchoolHoliday</th>\n",
       "    </tr>\n",
       "  </thead>\n",
       "  <tbody>\n",
       "    <tr>\n",
       "      <th>0</th>\n",
       "      <td>1</td>\n",
       "      <td>1</td>\n",
       "      <td>4</td>\n",
       "      <td>2015-09-17</td>\n",
       "      <td>1.0</td>\n",
       "      <td>1</td>\n",
       "      <td>0</td>\n",
       "      <td>0</td>\n",
       "    </tr>\n",
       "    <tr>\n",
       "      <th>1</th>\n",
       "      <td>2</td>\n",
       "      <td>3</td>\n",
       "      <td>4</td>\n",
       "      <td>2015-09-17</td>\n",
       "      <td>1.0</td>\n",
       "      <td>1</td>\n",
       "      <td>0</td>\n",
       "      <td>0</td>\n",
       "    </tr>\n",
       "    <tr>\n",
       "      <th>2</th>\n",
       "      <td>3</td>\n",
       "      <td>7</td>\n",
       "      <td>4</td>\n",
       "      <td>2015-09-17</td>\n",
       "      <td>1.0</td>\n",
       "      <td>1</td>\n",
       "      <td>0</td>\n",
       "      <td>0</td>\n",
       "    </tr>\n",
       "    <tr>\n",
       "      <th>3</th>\n",
       "      <td>4</td>\n",
       "      <td>8</td>\n",
       "      <td>4</td>\n",
       "      <td>2015-09-17</td>\n",
       "      <td>1.0</td>\n",
       "      <td>1</td>\n",
       "      <td>0</td>\n",
       "      <td>0</td>\n",
       "    </tr>\n",
       "    <tr>\n",
       "      <th>4</th>\n",
       "      <td>5</td>\n",
       "      <td>9</td>\n",
       "      <td>4</td>\n",
       "      <td>2015-09-17</td>\n",
       "      <td>1.0</td>\n",
       "      <td>1</td>\n",
       "      <td>0</td>\n",
       "      <td>0</td>\n",
       "    </tr>\n",
       "  </tbody>\n",
       "</table>\n",
       "</div>"
      ],
      "text/plain": [
       "   Id  Store  DayOfWeek        Date  Open  Promo StateHoliday  SchoolHoliday\n",
       "0   1      1          4  2015-09-17   1.0      1            0              0\n",
       "1   2      3          4  2015-09-17   1.0      1            0              0\n",
       "2   3      7          4  2015-09-17   1.0      1            0              0\n",
       "3   4      8          4  2015-09-17   1.0      1            0              0\n",
       "4   5      9          4  2015-09-17   1.0      1            0              0"
      ]
     },
     "execution_count": 7,
     "metadata": {},
     "output_type": "execute_result"
    }
   ],
   "source": [
    "data_raw_test = pd.read_csv(\"datasets/test.csv\", low_memory=False)\n",
    "data_raw_test.head()"
   ]
  },
  {
   "cell_type": "code",
   "execution_count": 8,
   "id": "032af541",
   "metadata": {},
   "outputs": [
    {
     "data": {
      "text/html": [
       "<div>\n",
       "<style scoped>\n",
       "    .dataframe tbody tr th:only-of-type {\n",
       "        vertical-align: middle;\n",
       "    }\n",
       "\n",
       "    .dataframe tbody tr th {\n",
       "        vertical-align: top;\n",
       "    }\n",
       "\n",
       "    .dataframe thead th {\n",
       "        text-align: right;\n",
       "    }\n",
       "</style>\n",
       "<table border=\"1\" class=\"dataframe\">\n",
       "  <thead>\n",
       "    <tr style=\"text-align: right;\">\n",
       "      <th></th>\n",
       "      <th>Store</th>\n",
       "      <th>StoreType</th>\n",
       "      <th>Assortment</th>\n",
       "      <th>CompetitionDistance</th>\n",
       "      <th>CompetitionOpenSinceMonth</th>\n",
       "      <th>CompetitionOpenSinceYear</th>\n",
       "      <th>Promo2</th>\n",
       "      <th>Promo2SinceWeek</th>\n",
       "      <th>Promo2SinceYear</th>\n",
       "      <th>PromoInterval</th>\n",
       "    </tr>\n",
       "  </thead>\n",
       "  <tbody>\n",
       "    <tr>\n",
       "      <th>0</th>\n",
       "      <td>1</td>\n",
       "      <td>c</td>\n",
       "      <td>a</td>\n",
       "      <td>1270.0</td>\n",
       "      <td>9.0</td>\n",
       "      <td>2008.0</td>\n",
       "      <td>0</td>\n",
       "      <td>NaN</td>\n",
       "      <td>NaN</td>\n",
       "      <td>NaN</td>\n",
       "    </tr>\n",
       "    <tr>\n",
       "      <th>1</th>\n",
       "      <td>2</td>\n",
       "      <td>a</td>\n",
       "      <td>a</td>\n",
       "      <td>570.0</td>\n",
       "      <td>11.0</td>\n",
       "      <td>2007.0</td>\n",
       "      <td>1</td>\n",
       "      <td>13.0</td>\n",
       "      <td>2010.0</td>\n",
       "      <td>Jan,Apr,Jul,Oct</td>\n",
       "    </tr>\n",
       "    <tr>\n",
       "      <th>2</th>\n",
       "      <td>3</td>\n",
       "      <td>a</td>\n",
       "      <td>a</td>\n",
       "      <td>14130.0</td>\n",
       "      <td>12.0</td>\n",
       "      <td>2006.0</td>\n",
       "      <td>1</td>\n",
       "      <td>14.0</td>\n",
       "      <td>2011.0</td>\n",
       "      <td>Jan,Apr,Jul,Oct</td>\n",
       "    </tr>\n",
       "    <tr>\n",
       "      <th>3</th>\n",
       "      <td>4</td>\n",
       "      <td>c</td>\n",
       "      <td>c</td>\n",
       "      <td>620.0</td>\n",
       "      <td>9.0</td>\n",
       "      <td>2009.0</td>\n",
       "      <td>0</td>\n",
       "      <td>NaN</td>\n",
       "      <td>NaN</td>\n",
       "      <td>NaN</td>\n",
       "    </tr>\n",
       "    <tr>\n",
       "      <th>4</th>\n",
       "      <td>5</td>\n",
       "      <td>a</td>\n",
       "      <td>a</td>\n",
       "      <td>29910.0</td>\n",
       "      <td>4.0</td>\n",
       "      <td>2015.0</td>\n",
       "      <td>0</td>\n",
       "      <td>NaN</td>\n",
       "      <td>NaN</td>\n",
       "      <td>NaN</td>\n",
       "    </tr>\n",
       "  </tbody>\n",
       "</table>\n",
       "</div>"
      ],
      "text/plain": [
       "   Store StoreType Assortment  CompetitionDistance  CompetitionOpenSinceMonth  \\\n",
       "0      1         c          a               1270.0                        9.0   \n",
       "1      2         a          a                570.0                       11.0   \n",
       "2      3         a          a              14130.0                       12.0   \n",
       "3      4         c          c                620.0                        9.0   \n",
       "4      5         a          a              29910.0                        4.0   \n",
       "\n",
       "   CompetitionOpenSinceYear  Promo2  Promo2SinceWeek  Promo2SinceYear  \\\n",
       "0                    2008.0       0              NaN              NaN   \n",
       "1                    2007.0       1             13.0           2010.0   \n",
       "2                    2006.0       1             14.0           2011.0   \n",
       "3                    2009.0       0              NaN              NaN   \n",
       "4                    2015.0       0              NaN              NaN   \n",
       "\n",
       "     PromoInterval  \n",
       "0              NaN  \n",
       "1  Jan,Apr,Jul,Oct  \n",
       "2  Jan,Apr,Jul,Oct  \n",
       "3              NaN  \n",
       "4              NaN  "
      ]
     },
     "execution_count": 8,
     "metadata": {},
     "output_type": "execute_result"
    }
   ],
   "source": [
    "data_raw_store = pd.read_csv(\"datasets/store.csv\", low_memory=False)\n",
    "data_raw_store.head()"
   ]
  },
  {
   "cell_type": "code",
   "execution_count": 9,
   "id": "92236584",
   "metadata": {},
   "outputs": [
    {
     "data": {
      "text/html": [
       "<div>\n",
       "<style scoped>\n",
       "    .dataframe tbody tr th:only-of-type {\n",
       "        vertical-align: middle;\n",
       "    }\n",
       "\n",
       "    .dataframe tbody tr th {\n",
       "        vertical-align: top;\n",
       "    }\n",
       "\n",
       "    .dataframe thead th {\n",
       "        text-align: right;\n",
       "    }\n",
       "</style>\n",
       "<table border=\"1\" class=\"dataframe\">\n",
       "  <thead>\n",
       "    <tr style=\"text-align: right;\">\n",
       "      <th></th>\n",
       "      <th>Id</th>\n",
       "      <th>Sales</th>\n",
       "    </tr>\n",
       "  </thead>\n",
       "  <tbody>\n",
       "    <tr>\n",
       "      <th>0</th>\n",
       "      <td>1</td>\n",
       "      <td>0</td>\n",
       "    </tr>\n",
       "    <tr>\n",
       "      <th>1</th>\n",
       "      <td>2</td>\n",
       "      <td>0</td>\n",
       "    </tr>\n",
       "    <tr>\n",
       "      <th>2</th>\n",
       "      <td>3</td>\n",
       "      <td>0</td>\n",
       "    </tr>\n",
       "    <tr>\n",
       "      <th>3</th>\n",
       "      <td>4</td>\n",
       "      <td>0</td>\n",
       "    </tr>\n",
       "    <tr>\n",
       "      <th>4</th>\n",
       "      <td>5</td>\n",
       "      <td>0</td>\n",
       "    </tr>\n",
       "  </tbody>\n",
       "</table>\n",
       "</div>"
      ],
      "text/plain": [
       "   Id  Sales\n",
       "0   1      0\n",
       "1   2      0\n",
       "2   3      0\n",
       "3   4      0\n",
       "4   5      0"
      ]
     },
     "execution_count": 9,
     "metadata": {},
     "output_type": "execute_result"
    }
   ],
   "source": [
    "data_raw_sample = pd.read_csv(\"datasets/sample_submission.csv\", low_memory=False)\n",
    "data_raw_sample.head()"
   ]
  },
  {
   "cell_type": "markdown",
   "id": "a3243db4",
   "metadata": {},
   "source": [
    "Based on the data above, we are going to merge the datasets \"train\" and \"store\". They are the ones with the relevant data we need to perform the forecast. "
   ]
  },
  {
   "cell_type": "code",
   "execution_count": 10,
   "id": "40464d2d",
   "metadata": {},
   "outputs": [
    {
     "data": {
      "text/html": [
       "<div>\n",
       "<style scoped>\n",
       "    .dataframe tbody tr th:only-of-type {\n",
       "        vertical-align: middle;\n",
       "    }\n",
       "\n",
       "    .dataframe tbody tr th {\n",
       "        vertical-align: top;\n",
       "    }\n",
       "\n",
       "    .dataframe thead th {\n",
       "        text-align: right;\n",
       "    }\n",
       "</style>\n",
       "<table border=\"1\" class=\"dataframe\">\n",
       "  <thead>\n",
       "    <tr style=\"text-align: right;\">\n",
       "      <th></th>\n",
       "      <th>Store</th>\n",
       "      <th>DayOfWeek</th>\n",
       "      <th>Date</th>\n",
       "      <th>Sales</th>\n",
       "      <th>Customers</th>\n",
       "      <th>Open</th>\n",
       "      <th>Promo</th>\n",
       "      <th>StateHoliday</th>\n",
       "      <th>SchoolHoliday</th>\n",
       "      <th>StoreType</th>\n",
       "      <th>Assortment</th>\n",
       "      <th>CompetitionDistance</th>\n",
       "      <th>CompetitionOpenSinceMonth</th>\n",
       "      <th>CompetitionOpenSinceYear</th>\n",
       "      <th>Promo2</th>\n",
       "      <th>Promo2SinceWeek</th>\n",
       "      <th>Promo2SinceYear</th>\n",
       "      <th>PromoInterval</th>\n",
       "    </tr>\n",
       "  </thead>\n",
       "  <tbody>\n",
       "    <tr>\n",
       "      <th>0</th>\n",
       "      <td>1</td>\n",
       "      <td>5</td>\n",
       "      <td>2015-07-31</td>\n",
       "      <td>5263</td>\n",
       "      <td>555</td>\n",
       "      <td>1</td>\n",
       "      <td>1</td>\n",
       "      <td>0</td>\n",
       "      <td>1</td>\n",
       "      <td>c</td>\n",
       "      <td>a</td>\n",
       "      <td>1270.0</td>\n",
       "      <td>9.0</td>\n",
       "      <td>2008.0</td>\n",
       "      <td>0</td>\n",
       "      <td>NaN</td>\n",
       "      <td>NaN</td>\n",
       "      <td>NaN</td>\n",
       "    </tr>\n",
       "    <tr>\n",
       "      <th>1</th>\n",
       "      <td>2</td>\n",
       "      <td>5</td>\n",
       "      <td>2015-07-31</td>\n",
       "      <td>6064</td>\n",
       "      <td>625</td>\n",
       "      <td>1</td>\n",
       "      <td>1</td>\n",
       "      <td>0</td>\n",
       "      <td>1</td>\n",
       "      <td>a</td>\n",
       "      <td>a</td>\n",
       "      <td>570.0</td>\n",
       "      <td>11.0</td>\n",
       "      <td>2007.0</td>\n",
       "      <td>1</td>\n",
       "      <td>13.0</td>\n",
       "      <td>2010.0</td>\n",
       "      <td>Jan,Apr,Jul,Oct</td>\n",
       "    </tr>\n",
       "    <tr>\n",
       "      <th>2</th>\n",
       "      <td>3</td>\n",
       "      <td>5</td>\n",
       "      <td>2015-07-31</td>\n",
       "      <td>8314</td>\n",
       "      <td>821</td>\n",
       "      <td>1</td>\n",
       "      <td>1</td>\n",
       "      <td>0</td>\n",
       "      <td>1</td>\n",
       "      <td>a</td>\n",
       "      <td>a</td>\n",
       "      <td>14130.0</td>\n",
       "      <td>12.0</td>\n",
       "      <td>2006.0</td>\n",
       "      <td>1</td>\n",
       "      <td>14.0</td>\n",
       "      <td>2011.0</td>\n",
       "      <td>Jan,Apr,Jul,Oct</td>\n",
       "    </tr>\n",
       "    <tr>\n",
       "      <th>3</th>\n",
       "      <td>4</td>\n",
       "      <td>5</td>\n",
       "      <td>2015-07-31</td>\n",
       "      <td>13995</td>\n",
       "      <td>1498</td>\n",
       "      <td>1</td>\n",
       "      <td>1</td>\n",
       "      <td>0</td>\n",
       "      <td>1</td>\n",
       "      <td>c</td>\n",
       "      <td>c</td>\n",
       "      <td>620.0</td>\n",
       "      <td>9.0</td>\n",
       "      <td>2009.0</td>\n",
       "      <td>0</td>\n",
       "      <td>NaN</td>\n",
       "      <td>NaN</td>\n",
       "      <td>NaN</td>\n",
       "    </tr>\n",
       "    <tr>\n",
       "      <th>4</th>\n",
       "      <td>5</td>\n",
       "      <td>5</td>\n",
       "      <td>2015-07-31</td>\n",
       "      <td>4822</td>\n",
       "      <td>559</td>\n",
       "      <td>1</td>\n",
       "      <td>1</td>\n",
       "      <td>0</td>\n",
       "      <td>1</td>\n",
       "      <td>a</td>\n",
       "      <td>a</td>\n",
       "      <td>29910.0</td>\n",
       "      <td>4.0</td>\n",
       "      <td>2015.0</td>\n",
       "      <td>0</td>\n",
       "      <td>NaN</td>\n",
       "      <td>NaN</td>\n",
       "      <td>NaN</td>\n",
       "    </tr>\n",
       "  </tbody>\n",
       "</table>\n",
       "</div>"
      ],
      "text/plain": [
       "   Store  DayOfWeek        Date  Sales  Customers  Open  Promo StateHoliday  \\\n",
       "0      1          5  2015-07-31   5263        555     1      1            0   \n",
       "1      2          5  2015-07-31   6064        625     1      1            0   \n",
       "2      3          5  2015-07-31   8314        821     1      1            0   \n",
       "3      4          5  2015-07-31  13995       1498     1      1            0   \n",
       "4      5          5  2015-07-31   4822        559     1      1            0   \n",
       "\n",
       "   SchoolHoliday StoreType Assortment  CompetitionDistance  \\\n",
       "0              1         c          a               1270.0   \n",
       "1              1         a          a                570.0   \n",
       "2              1         a          a              14130.0   \n",
       "3              1         c          c                620.0   \n",
       "4              1         a          a              29910.0   \n",
       "\n",
       "   CompetitionOpenSinceMonth  CompetitionOpenSinceYear  Promo2  \\\n",
       "0                        9.0                    2008.0       0   \n",
       "1                       11.0                    2007.0       1   \n",
       "2                       12.0                    2006.0       1   \n",
       "3                        9.0                    2009.0       0   \n",
       "4                        4.0                    2015.0       0   \n",
       "\n",
       "   Promo2SinceWeek  Promo2SinceYear    PromoInterval  \n",
       "0              NaN              NaN              NaN  \n",
       "1             13.0           2010.0  Jan,Apr,Jul,Oct  \n",
       "2             14.0           2011.0  Jan,Apr,Jul,Oct  \n",
       "3              NaN              NaN              NaN  \n",
       "4              NaN              NaN              NaN  "
      ]
     },
     "execution_count": 10,
     "metadata": {},
     "output_type": "execute_result"
    }
   ],
   "source": [
    "data_raw = pd.merge(data_raw_train, data_raw_store, how=\"left\", on=\"Store\")\n",
    "data_raw.head()"
   ]
  },
  {
   "cell_type": "markdown",
   "id": "6f12a032",
   "metadata": {},
   "source": [
    "# 1. Data Description"
   ]
  },
  {
   "cell_type": "code",
   "execution_count": 11,
   "id": "2aee8716",
   "metadata": {},
   "outputs": [],
   "source": [
    "df1 = data_raw.copy()"
   ]
  },
  {
   "cell_type": "markdown",
   "id": "0cd907fe",
   "metadata": {},
   "source": [
    "#### Data fields meaning"
   ]
  },
  {
   "cell_type": "markdown",
   "id": "27f86211",
   "metadata": {},
   "source": [
    "**- Id:** an Id that represents a (Store, Date) duple within the test set.\n",
    "\n",
    "**- Store:** a unique Id for each store.\n",
    "\n",
    "**- Sales:** the turnover for any given day (this is what you are predicting).\n",
    "\n",
    "**- Customers:** the number of customers on a given day.\n",
    "\n",
    "**- Open:** an indicator for whether the store was open: 0 = closed, 1 = open.\n",
    "\n",
    "**- StateHoliday:** indicates a state holiday. Normally all stores, with few exceptions, are closed on state holidays. Note that all schools are closed on public holidays and weekends. a = public holiday, b = Easter holiday, c = Christmas, 0 = None.\n",
    "\n",
    "**- SchoolHoliday:** indicates if the (Store, Date) was affected by the closure of public schools.\n",
    "\n",
    "**- StoreType:** differentiates between 4 different store models: a, b, c, d.\n",
    "\n",
    "**- Assortment:** describes an assortment level: a = basic, b = extra, c = extended.\n",
    "\n",
    "**- CompetitionDistance:** distance in meters to the nearest competitor store.\n",
    "\n",
    "**- CompetitionOpenSince[Month/Year]:** gives the approximate year and month of the time the nearest competitor was opened.\n",
    "\n",
    "**- Promo:** indicates whether a store is running a promo on that day.\n",
    "\n",
    "**- Promo2:** Promo2 is a continuing and consecutive promotion for some stores: 0 = store is not participating, 1 = store is participating.\n",
    "\n",
    "**- Promo2Since[Year/Week]:** describes the year and calendar week when the store started participating in Promo2.\n",
    "\n",
    "**- PromoInterval:** describes the consecutive intervals Promo2 is started, naming the months the promotion is started anew. E.g. \"Feb,May,Aug,Nov\" means each round starts in February, May, August, November of any given year for that store."
   ]
  },
  {
   "cell_type": "markdown",
   "id": "0bc406de",
   "metadata": {},
   "source": [
    "## 1.1. Rename Columns"
   ]
  },
  {
   "cell_type": "markdown",
   "id": "d3f88e59",
   "metadata": {},
   "source": [
    "We are going to rename columns from camel case to snake case."
   ]
  },
  {
   "cell_type": "code",
   "execution_count": 12,
   "id": "f122e4e5",
   "metadata": {},
   "outputs": [
    {
     "data": {
      "text/plain": [
       "Index(['Store', 'DayOfWeek', 'Date', 'Sales', 'Customers', 'Open', 'Promo',\n",
       "       'StateHoliday', 'SchoolHoliday', 'StoreType', 'Assortment',\n",
       "       'CompetitionDistance', 'CompetitionOpenSinceMonth',\n",
       "       'CompetitionOpenSinceYear', 'Promo2', 'Promo2SinceWeek',\n",
       "       'Promo2SinceYear', 'PromoInterval'],\n",
       "      dtype='object')"
      ]
     },
     "execution_count": 12,
     "metadata": {},
     "output_type": "execute_result"
    }
   ],
   "source": [
    "df1.columns"
   ]
  },
  {
   "cell_type": "code",
   "execution_count": 14,
   "id": "7cc05fb7",
   "metadata": {},
   "outputs": [],
   "source": [
    "cols_old = ['Store', 'DayOfWeek', 'Date', 'Sales', 'Customers', 'Open', 'Promo', 'StateHoliday', 'SchoolHoliday', \n",
    "            'StoreType', 'Assortment', 'CompetitionDistance', 'CompetitionOpenSinceMonth', 'CompetitionOpenSinceYear',\n",
    "            'Promo2', 'Promo2SinceWeek', 'Promo2SinceYear', 'PromoInterval']\n",
    "\n",
    "snake_case = lambda x: inflection.underscore(x)\n",
    "\n",
    "cols_new = list(map(snake_case, cols_old))\n",
    "\n",
    "#rename\n",
    "df1.columns = cols_new"
   ]
  },
  {
   "cell_type": "code",
   "execution_count": 15,
   "id": "ff454c3a",
   "metadata": {},
   "outputs": [
    {
     "data": {
      "text/plain": [
       "Index(['store', 'day_of_week', 'date', 'sales', 'customers', 'open', 'promo',\n",
       "       'state_holiday', 'school_holiday', 'store_type', 'assortment',\n",
       "       'competition_distance', 'competition_open_since_month',\n",
       "       'competition_open_since_year', 'promo2', 'promo2_since_week',\n",
       "       'promo2_since_year', 'promo_interval'],\n",
       "      dtype='object')"
      ]
     },
     "execution_count": 15,
     "metadata": {},
     "output_type": "execute_result"
    }
   ],
   "source": [
    "df1.columns"
   ]
  },
  {
   "cell_type": "markdown",
   "id": "28b3767a",
   "metadata": {},
   "source": [
    "## 1.2. Data Dimensions"
   ]
  },
  {
   "cell_type": "code",
   "execution_count": 19,
   "id": "4adfd3a4",
   "metadata": {},
   "outputs": [
    {
     "name": "stdout",
     "output_type": "stream",
     "text": [
      "Number of rows: 1017209\n",
      "Number of cols: 18\n"
     ]
    }
   ],
   "source": [
    "print(\"Number of rows: {}\".format(df1.shape[0]))\n",
    "print(\"Number of cols: {}\".format(df1.shape[1]))"
   ]
  },
  {
   "cell_type": "markdown",
   "id": "153395bb",
   "metadata": {},
   "source": [
    "## 1.3. Data Types"
   ]
  },
  {
   "cell_type": "code",
   "execution_count": 20,
   "id": "2dcb2273",
   "metadata": {},
   "outputs": [
    {
     "data": {
      "text/plain": [
       "store                             int64\n",
       "day_of_week                       int64\n",
       "date                             object\n",
       "sales                             int64\n",
       "customers                         int64\n",
       "open                              int64\n",
       "promo                             int64\n",
       "state_holiday                    object\n",
       "school_holiday                    int64\n",
       "store_type                       object\n",
       "assortment                       object\n",
       "competition_distance            float64\n",
       "competition_open_since_month    float64\n",
       "competition_open_since_year     float64\n",
       "promo2                            int64\n",
       "promo2_since_week               float64\n",
       "promo2_since_year               float64\n",
       "promo_interval                   object\n",
       "dtype: object"
      ]
     },
     "execution_count": 20,
     "metadata": {},
     "output_type": "execute_result"
    }
   ],
   "source": [
    "df1.dtypes"
   ]
  },
  {
   "cell_type": "code",
   "execution_count": 21,
   "id": "02800f9d",
   "metadata": {},
   "outputs": [
    {
     "data": {
      "text/html": [
       "<div>\n",
       "<style scoped>\n",
       "    .dataframe tbody tr th:only-of-type {\n",
       "        vertical-align: middle;\n",
       "    }\n",
       "\n",
       "    .dataframe tbody tr th {\n",
       "        vertical-align: top;\n",
       "    }\n",
       "\n",
       "    .dataframe thead th {\n",
       "        text-align: right;\n",
       "    }\n",
       "</style>\n",
       "<table border=\"1\" class=\"dataframe\">\n",
       "  <thead>\n",
       "    <tr style=\"text-align: right;\">\n",
       "      <th></th>\n",
       "      <th>store</th>\n",
       "      <th>day_of_week</th>\n",
       "      <th>date</th>\n",
       "      <th>sales</th>\n",
       "      <th>customers</th>\n",
       "      <th>open</th>\n",
       "      <th>promo</th>\n",
       "      <th>state_holiday</th>\n",
       "      <th>school_holiday</th>\n",
       "      <th>store_type</th>\n",
       "      <th>assortment</th>\n",
       "      <th>competition_distance</th>\n",
       "      <th>competition_open_since_month</th>\n",
       "      <th>competition_open_since_year</th>\n",
       "      <th>promo2</th>\n",
       "      <th>promo2_since_week</th>\n",
       "      <th>promo2_since_year</th>\n",
       "      <th>promo_interval</th>\n",
       "    </tr>\n",
       "  </thead>\n",
       "  <tbody>\n",
       "    <tr>\n",
       "      <th>526376</th>\n",
       "      <td>882</td>\n",
       "      <td>1</td>\n",
       "      <td>2014-03-17</td>\n",
       "      <td>7518</td>\n",
       "      <td>960</td>\n",
       "      <td>1</td>\n",
       "      <td>1</td>\n",
       "      <td>0</td>\n",
       "      <td>0</td>\n",
       "      <td>a</td>\n",
       "      <td>a</td>\n",
       "      <td>30.0</td>\n",
       "      <td>4.0</td>\n",
       "      <td>2013.0</td>\n",
       "      <td>0</td>\n",
       "      <td>NaN</td>\n",
       "      <td>NaN</td>\n",
       "      <td>NaN</td>\n",
       "    </tr>\n",
       "  </tbody>\n",
       "</table>\n",
       "</div>"
      ],
      "text/plain": [
       "        store  day_of_week        date  sales  customers  open  promo  \\\n",
       "526376    882            1  2014-03-17   7518        960     1      1   \n",
       "\n",
       "       state_holiday  school_holiday store_type assortment  \\\n",
       "526376             0               0          a          a   \n",
       "\n",
       "        competition_distance  competition_open_since_month  \\\n",
       "526376                  30.0                           4.0   \n",
       "\n",
       "        competition_open_since_year  promo2  promo2_since_week  \\\n",
       "526376                       2013.0       0                NaN   \n",
       "\n",
       "        promo2_since_year promo_interval  \n",
       "526376                NaN            NaN  "
      ]
     },
     "execution_count": 21,
     "metadata": {},
     "output_type": "execute_result"
    }
   ],
   "source": [
    "df1.sample()"
   ]
  },
  {
   "cell_type": "code",
   "execution_count": 28,
   "id": "3d32058e",
   "metadata": {},
   "outputs": [
    {
     "data": {
      "text/plain": [
       "array(['0', 'a', 'b', 'c'], dtype=object)"
      ]
     },
     "execution_count": 28,
     "metadata": {},
     "output_type": "execute_result"
    }
   ],
   "source": [
    "df1[\"state_holiday\"].unique()"
   ]
  },
  {
   "cell_type": "code",
   "execution_count": 38,
   "id": "2951a466",
   "metadata": {},
   "outputs": [],
   "source": [
    "df1[\"date\"] = pd.to_datetime( df1[\"date\"] )"
   ]
  },
  {
   "cell_type": "code",
   "execution_count": 39,
   "id": "c521ed50",
   "metadata": {},
   "outputs": [
    {
     "data": {
      "text/plain": [
       "store                                    int64\n",
       "day_of_week                              int64\n",
       "date                            datetime64[ns]\n",
       "sales                                    int64\n",
       "customers                                int64\n",
       "open                                     int64\n",
       "promo                                    int64\n",
       "state_holiday                           object\n",
       "school_holiday                           int64\n",
       "store_type                              object\n",
       "assortment                              object\n",
       "competition_distance                   float64\n",
       "competition_open_since_month           float64\n",
       "competition_open_since_year            float64\n",
       "promo2                                   int64\n",
       "promo2_since_week                      float64\n",
       "promo2_since_year                      float64\n",
       "promo_interval                          object\n",
       "dtype: object"
      ]
     },
     "execution_count": 39,
     "metadata": {},
     "output_type": "execute_result"
    }
   ],
   "source": [
    "df1.dtypes"
   ]
  },
  {
   "cell_type": "markdown",
   "id": "fb951691",
   "metadata": {},
   "source": [
    "## 1.4. Check NA/Missing values"
   ]
  },
  {
   "cell_type": "code",
   "execution_count": 29,
   "id": "5c248c37",
   "metadata": {},
   "outputs": [
    {
     "data": {
      "text/plain": [
       "store                                0\n",
       "day_of_week                          0\n",
       "date                                 0\n",
       "sales                                0\n",
       "customers                            0\n",
       "open                                 0\n",
       "promo                                0\n",
       "state_holiday                        0\n",
       "school_holiday                       0\n",
       "store_type                           0\n",
       "assortment                           0\n",
       "competition_distance              2642\n",
       "competition_open_since_month    323348\n",
       "competition_open_since_year     323348\n",
       "promo2                               0\n",
       "promo2_since_week               508031\n",
       "promo2_since_year               508031\n",
       "promo_interval                  508031\n",
       "dtype: int64"
      ]
     },
     "execution_count": 29,
     "metadata": {},
     "output_type": "execute_result"
    }
   ],
   "source": [
    "df1.isna().sum()"
   ]
  },
  {
   "cell_type": "code",
   "execution_count": 30,
   "id": "f419fa1a",
   "metadata": {},
   "outputs": [
    {
     "data": {
      "text/plain": [
       "store                                0\n",
       "day_of_week                          0\n",
       "date                                 0\n",
       "sales                                0\n",
       "customers                            0\n",
       "open                                 0\n",
       "promo                                0\n",
       "state_holiday                        0\n",
       "school_holiday                       0\n",
       "store_type                           0\n",
       "assortment                           0\n",
       "competition_distance              2642\n",
       "competition_open_since_month    323348\n",
       "competition_open_since_year     323348\n",
       "promo2                               0\n",
       "promo2_since_week               508031\n",
       "promo2_since_year               508031\n",
       "promo_interval                  508031\n",
       "dtype: int64"
      ]
     },
     "execution_count": 30,
     "metadata": {},
     "output_type": "execute_result"
    }
   ],
   "source": [
    "df1.isnull().sum()"
   ]
  },
  {
   "cell_type": "markdown",
   "id": "5516d11e",
   "metadata": {},
   "source": [
    "## 1.5. Fillout NA/Missing values"
   ]
  },
  {
   "cell_type": "markdown",
   "id": "1f125eb1",
   "metadata": {},
   "source": [
    "We have 03 different types of treating NA values:\n",
    "\n",
    "**1.** Deleting all of them. It is easy and fast, but it results in a big loss. \n",
    "\n",
    "**2.** We may also use Machine Learning algorithms to fill them based on the column characteristics. e.g.: using median, mean or even clustering. \n",
    "\n",
    "**3.** We can fill them based on business decisions. That's the one we are going to use for now.   "
   ]
  },
  {
   "cell_type": "markdown",
   "id": "89503ad7",
   "metadata": {},
   "source": [
    "#### competition_distance"
   ]
  },
  {
   "cell_type": "markdown",
   "id": "7d90c408",
   "metadata": {},
   "source": [
    "This column means the \"distance in meters to the nearest competitor store\". We may assume that NA values are the ones greater than the maximum distance between the stores. "
   ]
  },
  {
   "cell_type": "code",
   "execution_count": 31,
   "id": "ad0ee590",
   "metadata": {},
   "outputs": [
    {
     "data": {
      "text/plain": [
       "75860.0"
      ]
     },
     "execution_count": 31,
     "metadata": {},
     "output_type": "execute_result"
    }
   ],
   "source": [
    "df1[\"competition_distance\"].max()"
   ]
  },
  {
   "cell_type": "markdown",
   "id": "2ec7d25e",
   "metadata": {},
   "source": [
    "As the maximum distance between competitors store is 75860.0 m, we may replace NA values with 200000.0. This replacement means, in other words, that the store has no competitor - based on the competition_distance field.  "
   ]
  },
  {
   "cell_type": "code",
   "execution_count": 33,
   "id": "a68cd034",
   "metadata": {},
   "outputs": [],
   "source": [
    "df1[\"competition_distance\"] = df1[\"competition_distance\"].apply(lambda x: 200000.0 if math.isnan(x) else x)"
   ]
  },
  {
   "cell_type": "markdown",
   "id": "c504518e",
   "metadata": {},
   "source": [
    "#### competition_open_since_month"
   ]
  },
  {
   "cell_type": "markdown",
   "id": "967403e1",
   "metadata": {},
   "source": [
    "This field gives the approximate month of the time the nearest competitor was opened. We are going to use the month from the date field where there are NA values in the column competition_since_open_month. "
   ]
  },
  {
   "cell_type": "code",
   "execution_count": 35,
   "id": "4f6692e3",
   "metadata": {},
   "outputs": [
    {
     "data": {
      "text/plain": [
       "1.0"
      ]
     },
     "execution_count": 35,
     "metadata": {},
     "output_type": "execute_result"
    }
   ],
   "source": [
    "df1[\"competition_open_since_month\"].min()"
   ]
  },
  {
   "cell_type": "code",
   "execution_count": 36,
   "id": "9cfa9648",
   "metadata": {},
   "outputs": [
    {
     "data": {
      "text/plain": [
       "array([ 9., 11., 12.,  4., 10.,  8., nan,  3.,  6.,  5.,  1.,  2.,  7.])"
      ]
     },
     "execution_count": 36,
     "metadata": {},
     "output_type": "execute_result"
    }
   ],
   "source": [
    "df1[\"competition_open_since_month\"].unique()"
   ]
  },
  {
   "cell_type": "markdown",
   "id": "37ecf45d",
   "metadata": {},
   "source": [
    "We are going to replace NA values with the month of the date of the row. "
   ]
  },
  {
   "cell_type": "code",
   "execution_count": 44,
   "id": "77eb3f8f",
   "metadata": {},
   "outputs": [],
   "source": [
    "df1[\"competition_open_since_month\"] = df1.apply(lambda x: \n",
    "                                                x[\"date\"].month if math.isnan(x[\"competition_open_since_month\"]) \n",
    "                                                else x[\"competition_open_since_month\"], axis=1)"
   ]
  },
  {
   "cell_type": "markdown",
   "id": "48acc250",
   "metadata": {},
   "source": [
    "#### competition_open_since_year"
   ]
  },
  {
   "cell_type": "markdown",
   "id": "3d16c714",
   "metadata": {},
   "source": [
    "The procedure is very similar to the last treatment. However, we are going to use year instead of month. "
   ]
  },
  {
   "cell_type": "code",
   "execution_count": 46,
   "id": "f378fc98",
   "metadata": {},
   "outputs": [
    {
     "data": {
      "text/plain": [
       "array([2008., 2007., 2006., 2009., 2015., 2013., 2014., 2000., 2011.,\n",
       "         nan, 2010., 2005., 1999., 2003., 2012., 2004., 2002., 1961.,\n",
       "       1995., 2001., 1990., 1994., 1900., 1998.])"
      ]
     },
     "execution_count": 46,
     "metadata": {},
     "output_type": "execute_result"
    }
   ],
   "source": [
    "df1[\"competition_open_since_year\"].unique()"
   ]
  },
  {
   "cell_type": "markdown",
   "id": "f737b4da",
   "metadata": {},
   "source": [
    "We are going to replace NA values with the month of the date of the row."
   ]
  },
  {
   "cell_type": "code",
   "execution_count": 47,
   "id": "482977e6",
   "metadata": {},
   "outputs": [],
   "source": [
    "df1[\"competition_open_since_year\"] = df1.apply(lambda x: \n",
    "                                                x[\"date\"].year if math.isnan(x[\"competition_open_since_year\"]) \n",
    "                                                else x[\"competition_open_since_year\"], axis=1)"
   ]
  },
  {
   "cell_type": "markdown",
   "id": "78d30fe9",
   "metadata": {},
   "source": [
    "#### promo2_since_week"
   ]
  },
  {
   "cell_type": "markdown",
   "id": "fedb11e8",
   "metadata": {},
   "source": [
    "Promo2 is a continuing and consecutive promotion for some stores. promo2_since_week describes the week when the store started participating in Promo2. The treatment is similar to the last one above, yet using week as time period. "
   ]
  },
  {
   "cell_type": "code",
   "execution_count": 49,
   "id": "64691a71",
   "metadata": {},
   "outputs": [],
   "source": [
    "df1[\"promo2_since_week\"] = df1.apply(lambda x: \n",
    "                                    x[\"date\"].week if math.isnan(x[\"promo2_since_week\"]) \n",
    "                                    else x[\"promo2_since_week\"], axis=1)"
   ]
  },
  {
   "cell_type": "code",
   "execution_count": 50,
   "id": "459a520d",
   "metadata": {},
   "outputs": [
    {
     "data": {
      "text/plain": [
       "store                                0\n",
       "day_of_week                          0\n",
       "date                                 0\n",
       "sales                                0\n",
       "customers                            0\n",
       "open                                 0\n",
       "promo                                0\n",
       "state_holiday                        0\n",
       "school_holiday                       0\n",
       "store_type                           0\n",
       "assortment                           0\n",
       "competition_distance                 0\n",
       "competition_open_since_month         0\n",
       "competition_open_since_year          0\n",
       "promo2                               0\n",
       "promo2_since_week                    0\n",
       "promo2_since_year               508031\n",
       "promo_interval                  508031\n",
       "dtype: int64"
      ]
     },
     "execution_count": 50,
     "metadata": {},
     "output_type": "execute_result"
    }
   ],
   "source": [
    "df1.isna().sum()"
   ]
  },
  {
   "cell_type": "markdown",
   "id": "39914eeb",
   "metadata": {},
   "source": [
    "#### promo2_since_year"
   ]
  },
  {
   "cell_type": "markdown",
   "id": "e83e5417",
   "metadata": {},
   "source": [
    "Similar to the treatment above. Yet, using year as time period. "
   ]
  },
  {
   "cell_type": "code",
   "execution_count": 52,
   "id": "33ea17aa",
   "metadata": {},
   "outputs": [],
   "source": [
    "df1[\"promo2_since_year\"] = df1.apply(lambda x: \n",
    "                                    x[\"date\"].year if math.isnan(x[\"promo2_since_year\"]) \n",
    "                                    else x[\"promo2_since_year\"], axis=1)"
   ]
  },
  {
   "cell_type": "code",
   "execution_count": 53,
   "id": "84f5a719",
   "metadata": {},
   "outputs": [
    {
     "data": {
      "text/plain": [
       "store                                0\n",
       "day_of_week                          0\n",
       "date                                 0\n",
       "sales                                0\n",
       "customers                            0\n",
       "open                                 0\n",
       "promo                                0\n",
       "state_holiday                        0\n",
       "school_holiday                       0\n",
       "store_type                           0\n",
       "assortment                           0\n",
       "competition_distance                 0\n",
       "competition_open_since_month         0\n",
       "competition_open_since_year          0\n",
       "promo2                               0\n",
       "promo2_since_week                    0\n",
       "promo2_since_year                    0\n",
       "promo_interval                  508031\n",
       "dtype: int64"
      ]
     },
     "execution_count": 53,
     "metadata": {},
     "output_type": "execute_result"
    }
   ],
   "source": [
    "df1.isna().sum()"
   ]
  },
  {
   "cell_type": "markdown",
   "id": "b08192ad",
   "metadata": {},
   "source": [
    "#### promo_interval"
   ]
  },
  {
   "cell_type": "markdown",
   "id": "8616b591",
   "metadata": {},
   "source": [
    "This field describes the consecutive intervals Promo2 is started, naming the months the promotion is started anew. E.g. \"Feb,May,Aug,Nov\" means each round starts in February, May, August, November of any given year for that store."
   ]
  },
  {
   "cell_type": "markdown",
   "id": "50c8a6ca",
   "metadata": {},
   "source": [
    "For this treatment, we created a new column named \"is_promo\" where: \n",
    "\n",
    "1. 0 means there is no promo2 because promo_interval is 0 (previous NA).\n",
    "2. 1 if the month from date field is in promo_interval field. "
   ]
  },
  {
   "cell_type": "code",
   "execution_count": 54,
   "id": "fe13aeb9",
   "metadata": {},
   "outputs": [],
   "source": [
    "month_map = {1: \"Jan\", 2: \"Feb\", 3: \"Mar\", 4: \"Apr\", 5: \"May\", 6: \"Jun\", 7: \"Jul\", 8: \"Aug\", 9: \"Sep\", 10: \"Oct\", 11: \"Nov\", 12: \"Dec\", }\n",
    "\n",
    "df1[\"promo_interval\"].fillna(0, inplace=True)\n",
    "\n",
    "df1[\"month_map\"] = df1[\"date\"].dt.month.map(month_map) \n",
    "\n",
    "df1[\"is_promo\"] = df1[[\"promo_interval\", \"month_map\"]].apply(lambda x: 0 if x[\"promo_interval\"] == 0 \n",
    "                                                              else 1 if x[\"month_map\"] in x[\"promo_interval\"].split(\",\") else 0, axis=1)"
   ]
  },
  {
   "cell_type": "code",
   "execution_count": 55,
   "id": "5ee2e57e",
   "metadata": {},
   "outputs": [
    {
     "data": {
      "text/html": [
       "<div>\n",
       "<style scoped>\n",
       "    .dataframe tbody tr th:only-of-type {\n",
       "        vertical-align: middle;\n",
       "    }\n",
       "\n",
       "    .dataframe tbody tr th {\n",
       "        vertical-align: top;\n",
       "    }\n",
       "\n",
       "    .dataframe thead th {\n",
       "        text-align: right;\n",
       "    }\n",
       "</style>\n",
       "<table border=\"1\" class=\"dataframe\">\n",
       "  <thead>\n",
       "    <tr style=\"text-align: right;\">\n",
       "      <th></th>\n",
       "      <th>store</th>\n",
       "      <th>day_of_week</th>\n",
       "      <th>date</th>\n",
       "      <th>sales</th>\n",
       "      <th>customers</th>\n",
       "      <th>open</th>\n",
       "      <th>promo</th>\n",
       "      <th>state_holiday</th>\n",
       "      <th>school_holiday</th>\n",
       "      <th>store_type</th>\n",
       "      <th>assortment</th>\n",
       "      <th>competition_distance</th>\n",
       "      <th>competition_open_since_month</th>\n",
       "      <th>competition_open_since_year</th>\n",
       "      <th>promo2</th>\n",
       "      <th>promo2_since_week</th>\n",
       "      <th>promo2_since_year</th>\n",
       "      <th>promo_interval</th>\n",
       "      <th>month_map</th>\n",
       "      <th>is_promo</th>\n",
       "    </tr>\n",
       "  </thead>\n",
       "  <tbody>\n",
       "    <tr>\n",
       "      <th>843822</th>\n",
       "      <td>553</td>\n",
       "      <td>3</td>\n",
       "      <td>2013-06-05</td>\n",
       "      <td>5303</td>\n",
       "      <td>461</td>\n",
       "      <td>1</td>\n",
       "      <td>1</td>\n",
       "      <td>0</td>\n",
       "      <td>0</td>\n",
       "      <td>c</td>\n",
       "      <td>a</td>\n",
       "      <td>3040.0</td>\n",
       "      <td>9.0</td>\n",
       "      <td>2002.0</td>\n",
       "      <td>1</td>\n",
       "      <td>13.0</td>\n",
       "      <td>2010.0</td>\n",
       "      <td>Jan,Apr,Jul,Oct</td>\n",
       "      <td>Jun</td>\n",
       "      <td>0</td>\n",
       "    </tr>\n",
       "    <tr>\n",
       "      <th>481485</th>\n",
       "      <td>591</td>\n",
       "      <td>6</td>\n",
       "      <td>2014-04-26</td>\n",
       "      <td>3919</td>\n",
       "      <td>335</td>\n",
       "      <td>1</td>\n",
       "      <td>0</td>\n",
       "      <td>0</td>\n",
       "      <td>0</td>\n",
       "      <td>a</td>\n",
       "      <td>c</td>\n",
       "      <td>3340.0</td>\n",
       "      <td>4.0</td>\n",
       "      <td>2014.0</td>\n",
       "      <td>1</td>\n",
       "      <td>22.0</td>\n",
       "      <td>2012.0</td>\n",
       "      <td>Mar,Jun,Sept,Dec</td>\n",
       "      <td>Apr</td>\n",
       "      <td>0</td>\n",
       "    </tr>\n",
       "    <tr>\n",
       "      <th>453616</th>\n",
       "      <td>597</td>\n",
       "      <td>3</td>\n",
       "      <td>2014-05-21</td>\n",
       "      <td>4781</td>\n",
       "      <td>716</td>\n",
       "      <td>1</td>\n",
       "      <td>1</td>\n",
       "      <td>0</td>\n",
       "      <td>0</td>\n",
       "      <td>a</td>\n",
       "      <td>a</td>\n",
       "      <td>150.0</td>\n",
       "      <td>9.0</td>\n",
       "      <td>2008.0</td>\n",
       "      <td>1</td>\n",
       "      <td>1.0</td>\n",
       "      <td>2012.0</td>\n",
       "      <td>Mar,Jun,Sept,Dec</td>\n",
       "      <td>May</td>\n",
       "      <td>0</td>\n",
       "    </tr>\n",
       "    <tr>\n",
       "      <th>912580</th>\n",
       "      <td>181</td>\n",
       "      <td>4</td>\n",
       "      <td>2013-04-04</td>\n",
       "      <td>5864</td>\n",
       "      <td>670</td>\n",
       "      <td>1</td>\n",
       "      <td>0</td>\n",
       "      <td>0</td>\n",
       "      <td>1</td>\n",
       "      <td>a</td>\n",
       "      <td>a</td>\n",
       "      <td>12610.0</td>\n",
       "      <td>3.0</td>\n",
       "      <td>2013.0</td>\n",
       "      <td>1</td>\n",
       "      <td>14.0</td>\n",
       "      <td>2011.0</td>\n",
       "      <td>Jan,Apr,Jul,Oct</td>\n",
       "      <td>Apr</td>\n",
       "      <td>1</td>\n",
       "    </tr>\n",
       "    <tr>\n",
       "      <th>749583</th>\n",
       "      <td>1089</td>\n",
       "      <td>4</td>\n",
       "      <td>2013-08-29</td>\n",
       "      <td>10260</td>\n",
       "      <td>972</td>\n",
       "      <td>1</td>\n",
       "      <td>1</td>\n",
       "      <td>0</td>\n",
       "      <td>1</td>\n",
       "      <td>d</td>\n",
       "      <td>a</td>\n",
       "      <td>5220.0</td>\n",
       "      <td>5.0</td>\n",
       "      <td>2009.0</td>\n",
       "      <td>0</td>\n",
       "      <td>35.0</td>\n",
       "      <td>2013.0</td>\n",
       "      <td>0</td>\n",
       "      <td>Aug</td>\n",
       "      <td>0</td>\n",
       "    </tr>\n",
       "  </tbody>\n",
       "</table>\n",
       "</div>"
      ],
      "text/plain": [
       "        store  day_of_week       date  sales  customers  open  promo  \\\n",
       "843822    553            3 2013-06-05   5303        461     1      1   \n",
       "481485    591            6 2014-04-26   3919        335     1      0   \n",
       "453616    597            3 2014-05-21   4781        716     1      1   \n",
       "912580    181            4 2013-04-04   5864        670     1      0   \n",
       "749583   1089            4 2013-08-29  10260        972     1      1   \n",
       "\n",
       "       state_holiday  school_holiday store_type assortment  \\\n",
       "843822             0               0          c          a   \n",
       "481485             0               0          a          c   \n",
       "453616             0               0          a          a   \n",
       "912580             0               1          a          a   \n",
       "749583             0               1          d          a   \n",
       "\n",
       "        competition_distance  competition_open_since_month  \\\n",
       "843822                3040.0                           9.0   \n",
       "481485                3340.0                           4.0   \n",
       "453616                 150.0                           9.0   \n",
       "912580               12610.0                           3.0   \n",
       "749583                5220.0                           5.0   \n",
       "\n",
       "        competition_open_since_year  promo2  promo2_since_week  \\\n",
       "843822                       2002.0       1               13.0   \n",
       "481485                       2014.0       1               22.0   \n",
       "453616                       2008.0       1                1.0   \n",
       "912580                       2013.0       1               14.0   \n",
       "749583                       2009.0       0               35.0   \n",
       "\n",
       "        promo2_since_year    promo_interval month_map  is_promo  \n",
       "843822             2010.0   Jan,Apr,Jul,Oct       Jun         0  \n",
       "481485             2012.0  Mar,Jun,Sept,Dec       Apr         0  \n",
       "453616             2012.0  Mar,Jun,Sept,Dec       May         0  \n",
       "912580             2011.0   Jan,Apr,Jul,Oct       Apr         1  \n",
       "749583             2013.0                 0       Aug         0  "
      ]
     },
     "execution_count": 55,
     "metadata": {},
     "output_type": "execute_result"
    }
   ],
   "source": [
    "df1.sample(5)"
   ]
  },
  {
   "cell_type": "code",
   "execution_count": 56,
   "id": "b82eff0b",
   "metadata": {},
   "outputs": [
    {
     "data": {
      "text/plain": [
       "store                           0\n",
       "day_of_week                     0\n",
       "date                            0\n",
       "sales                           0\n",
       "customers                       0\n",
       "open                            0\n",
       "promo                           0\n",
       "state_holiday                   0\n",
       "school_holiday                  0\n",
       "store_type                      0\n",
       "assortment                      0\n",
       "competition_distance            0\n",
       "competition_open_since_month    0\n",
       "competition_open_since_year     0\n",
       "promo2                          0\n",
       "promo2_since_week               0\n",
       "promo2_since_year               0\n",
       "promo_interval                  0\n",
       "month_map                       0\n",
       "is_promo                        0\n",
       "dtype: int64"
      ]
     },
     "execution_count": 56,
     "metadata": {},
     "output_type": "execute_result"
    }
   ],
   "source": [
    "df1.isna().sum()"
   ]
  },
  {
   "cell_type": "markdown",
   "id": "9c335884",
   "metadata": {},
   "source": [
    "## 1.6. Change Data Types"
   ]
  },
  {
   "cell_type": "markdown",
   "id": "ddff93e8",
   "metadata": {},
   "source": [
    "Since we did many operations with the columns in the last section, it is quite important to check their types and change them if necessary. "
   ]
  },
  {
   "cell_type": "code",
   "execution_count": 57,
   "id": "b8b8c664",
   "metadata": {},
   "outputs": [
    {
     "data": {
      "text/plain": [
       "store                                    int64\n",
       "day_of_week                              int64\n",
       "date                            datetime64[ns]\n",
       "sales                                    int64\n",
       "customers                                int64\n",
       "open                                     int64\n",
       "promo                                    int64\n",
       "state_holiday                           object\n",
       "school_holiday                           int64\n",
       "store_type                              object\n",
       "assortment                              object\n",
       "competition_distance                   float64\n",
       "competition_open_since_month           float64\n",
       "competition_open_since_year            float64\n",
       "promo2                                   int64\n",
       "promo2_since_week                      float64\n",
       "promo2_since_year                      float64\n",
       "promo_interval                          object\n",
       "month_map                               object\n",
       "is_promo                                 int64\n",
       "dtype: object"
      ]
     },
     "execution_count": 57,
     "metadata": {},
     "output_type": "execute_result"
    }
   ],
   "source": [
    "df1.dtypes"
   ]
  },
  {
   "cell_type": "code",
   "execution_count": 58,
   "id": "ab83db6c",
   "metadata": {},
   "outputs": [
    {
     "data": {
      "text/html": [
       "<div>\n",
       "<style scoped>\n",
       "    .dataframe tbody tr th:only-of-type {\n",
       "        vertical-align: middle;\n",
       "    }\n",
       "\n",
       "    .dataframe tbody tr th {\n",
       "        vertical-align: top;\n",
       "    }\n",
       "\n",
       "    .dataframe thead th {\n",
       "        text-align: right;\n",
       "    }\n",
       "</style>\n",
       "<table border=\"1\" class=\"dataframe\">\n",
       "  <thead>\n",
       "    <tr style=\"text-align: right;\">\n",
       "      <th></th>\n",
       "      <th>store</th>\n",
       "      <th>day_of_week</th>\n",
       "      <th>date</th>\n",
       "      <th>sales</th>\n",
       "      <th>customers</th>\n",
       "      <th>open</th>\n",
       "      <th>promo</th>\n",
       "      <th>state_holiday</th>\n",
       "      <th>school_holiday</th>\n",
       "      <th>store_type</th>\n",
       "      <th>assortment</th>\n",
       "      <th>competition_distance</th>\n",
       "      <th>competition_open_since_month</th>\n",
       "      <th>competition_open_since_year</th>\n",
       "      <th>promo2</th>\n",
       "      <th>promo2_since_week</th>\n",
       "      <th>promo2_since_year</th>\n",
       "      <th>promo_interval</th>\n",
       "      <th>month_map</th>\n",
       "      <th>is_promo</th>\n",
       "    </tr>\n",
       "  </thead>\n",
       "  <tbody>\n",
       "    <tr>\n",
       "      <th>95779</th>\n",
       "      <td>1005</td>\n",
       "      <td>4</td>\n",
       "      <td>2015-05-07</td>\n",
       "      <td>6437</td>\n",
       "      <td>906</td>\n",
       "      <td>1</td>\n",
       "      <td>1</td>\n",
       "      <td>0</td>\n",
       "      <td>0</td>\n",
       "      <td>a</td>\n",
       "      <td>a</td>\n",
       "      <td>6480.0</td>\n",
       "      <td>5.0</td>\n",
       "      <td>2015.0</td>\n",
       "      <td>0</td>\n",
       "      <td>19.0</td>\n",
       "      <td>2015.0</td>\n",
       "      <td>0</td>\n",
       "      <td>May</td>\n",
       "      <td>0</td>\n",
       "    </tr>\n",
       "    <tr>\n",
       "      <th>146180</th>\n",
       "      <td>116</td>\n",
       "      <td>7</td>\n",
       "      <td>2015-03-22</td>\n",
       "      <td>0</td>\n",
       "      <td>0</td>\n",
       "      <td>0</td>\n",
       "      <td>0</td>\n",
       "      <td>0</td>\n",
       "      <td>0</td>\n",
       "      <td>a</td>\n",
       "      <td>a</td>\n",
       "      <td>680.0</td>\n",
       "      <td>4.0</td>\n",
       "      <td>2013.0</td>\n",
       "      <td>0</td>\n",
       "      <td>12.0</td>\n",
       "      <td>2015.0</td>\n",
       "      <td>0</td>\n",
       "      <td>Mar</td>\n",
       "      <td>0</td>\n",
       "    </tr>\n",
       "    <tr>\n",
       "      <th>972748</th>\n",
       "      <td>139</td>\n",
       "      <td>6</td>\n",
       "      <td>2013-02-09</td>\n",
       "      <td>3806</td>\n",
       "      <td>323</td>\n",
       "      <td>1</td>\n",
       "      <td>0</td>\n",
       "      <td>0</td>\n",
       "      <td>0</td>\n",
       "      <td>a</td>\n",
       "      <td>a</td>\n",
       "      <td>1700.0</td>\n",
       "      <td>1.0</td>\n",
       "      <td>2008.0</td>\n",
       "      <td>1</td>\n",
       "      <td>14.0</td>\n",
       "      <td>2011.0</td>\n",
       "      <td>Jan,Apr,Jul,Oct</td>\n",
       "      <td>Feb</td>\n",
       "      <td>0</td>\n",
       "    </tr>\n",
       "  </tbody>\n",
       "</table>\n",
       "</div>"
      ],
      "text/plain": [
       "        store  day_of_week       date  sales  customers  open  promo  \\\n",
       "95779    1005            4 2015-05-07   6437        906     1      1   \n",
       "146180    116            7 2015-03-22      0          0     0      0   \n",
       "972748    139            6 2013-02-09   3806        323     1      0   \n",
       "\n",
       "       state_holiday  school_holiday store_type assortment  \\\n",
       "95779              0               0          a          a   \n",
       "146180             0               0          a          a   \n",
       "972748             0               0          a          a   \n",
       "\n",
       "        competition_distance  competition_open_since_month  \\\n",
       "95779                 6480.0                           5.0   \n",
       "146180                 680.0                           4.0   \n",
       "972748                1700.0                           1.0   \n",
       "\n",
       "        competition_open_since_year  promo2  promo2_since_week  \\\n",
       "95779                        2015.0       0               19.0   \n",
       "146180                       2013.0       0               12.0   \n",
       "972748                       2008.0       1               14.0   \n",
       "\n",
       "        promo2_since_year   promo_interval month_map  is_promo  \n",
       "95779              2015.0                0       May         0  \n",
       "146180             2015.0                0       Mar         0  \n",
       "972748             2011.0  Jan,Apr,Jul,Oct       Feb         0  "
      ]
     },
     "execution_count": 58,
     "metadata": {},
     "output_type": "execute_result"
    }
   ],
   "source": [
    "df1.sample(3)"
   ]
  },
  {
   "cell_type": "code",
   "execution_count": 61,
   "id": "7417570d",
   "metadata": {},
   "outputs": [],
   "source": [
    "df1[\"sales\"] = df1[\"sales\"].astype(float)\n",
    "df1[\"competition_open_since_month\"] = df1[\"competition_open_since_month\"].astype(int)\n",
    "df1[\"competition_open_since_year\"] = df1[\"competition_open_since_year\"].astype(int)\n",
    "df1[\"promo2_since_week\"] = df1[\"promo2_since_week\"].astype(int)\n",
    "df1[\"promo2_since_year\"] = df1[\"promo2_since_year\"].astype(int)"
   ]
  },
  {
   "cell_type": "code",
   "execution_count": 62,
   "id": "e76db55f",
   "metadata": {},
   "outputs": [
    {
     "data": {
      "text/plain": [
       "store                                    int64\n",
       "day_of_week                              int64\n",
       "date                            datetime64[ns]\n",
       "sales                                  float64\n",
       "customers                                int64\n",
       "open                                     int64\n",
       "promo                                    int64\n",
       "state_holiday                           object\n",
       "school_holiday                           int64\n",
       "store_type                              object\n",
       "assortment                              object\n",
       "competition_distance                   float64\n",
       "competition_open_since_month             int64\n",
       "competition_open_since_year              int64\n",
       "promo2                                   int64\n",
       "promo2_since_week                        int64\n",
       "promo2_since_year                        int64\n",
       "promo_interval                          object\n",
       "month_map                               object\n",
       "is_promo                                 int64\n",
       "dtype: object"
      ]
     },
     "execution_count": 62,
     "metadata": {},
     "output_type": "execute_result"
    }
   ],
   "source": [
    "df1.dtypes"
   ]
  },
  {
   "cell_type": "code",
   "execution_count": 63,
   "id": "ceb88572",
   "metadata": {},
   "outputs": [
    {
     "data": {
      "text/html": [
       "<div>\n",
       "<style scoped>\n",
       "    .dataframe tbody tr th:only-of-type {\n",
       "        vertical-align: middle;\n",
       "    }\n",
       "\n",
       "    .dataframe tbody tr th {\n",
       "        vertical-align: top;\n",
       "    }\n",
       "\n",
       "    .dataframe thead th {\n",
       "        text-align: right;\n",
       "    }\n",
       "</style>\n",
       "<table border=\"1\" class=\"dataframe\">\n",
       "  <thead>\n",
       "    <tr style=\"text-align: right;\">\n",
       "      <th></th>\n",
       "      <th>store</th>\n",
       "      <th>day_of_week</th>\n",
       "      <th>date</th>\n",
       "      <th>sales</th>\n",
       "      <th>customers</th>\n",
       "      <th>open</th>\n",
       "      <th>promo</th>\n",
       "      <th>state_holiday</th>\n",
       "      <th>school_holiday</th>\n",
       "      <th>store_type</th>\n",
       "      <th>assortment</th>\n",
       "      <th>competition_distance</th>\n",
       "      <th>competition_open_since_month</th>\n",
       "      <th>competition_open_since_year</th>\n",
       "      <th>promo2</th>\n",
       "      <th>promo2_since_week</th>\n",
       "      <th>promo2_since_year</th>\n",
       "      <th>promo_interval</th>\n",
       "      <th>month_map</th>\n",
       "      <th>is_promo</th>\n",
       "    </tr>\n",
       "  </thead>\n",
       "  <tbody>\n",
       "    <tr>\n",
       "      <th>175572</th>\n",
       "      <td>518</td>\n",
       "      <td>2</td>\n",
       "      <td>2015-02-24</td>\n",
       "      <td>3961.0</td>\n",
       "      <td>393</td>\n",
       "      <td>1</td>\n",
       "      <td>0</td>\n",
       "      <td>0</td>\n",
       "      <td>0</td>\n",
       "      <td>d</td>\n",
       "      <td>c</td>\n",
       "      <td>3330.0</td>\n",
       "      <td>3</td>\n",
       "      <td>2015</td>\n",
       "      <td>1</td>\n",
       "      <td>13</td>\n",
       "      <td>2010</td>\n",
       "      <td>Jan,Apr,Jul,Oct</td>\n",
       "      <td>Feb</td>\n",
       "      <td>0</td>\n",
       "    </tr>\n",
       "    <tr>\n",
       "      <th>552591</th>\n",
       "      <td>337</td>\n",
       "      <td>5</td>\n",
       "      <td>2014-02-21</td>\n",
       "      <td>5549.0</td>\n",
       "      <td>411</td>\n",
       "      <td>1</td>\n",
       "      <td>1</td>\n",
       "      <td>0</td>\n",
       "      <td>0</td>\n",
       "      <td>d</td>\n",
       "      <td>c</td>\n",
       "      <td>10600.0</td>\n",
       "      <td>7</td>\n",
       "      <td>2005</td>\n",
       "      <td>1</td>\n",
       "      <td>45</td>\n",
       "      <td>2014</td>\n",
       "      <td>Feb,May,Aug,Nov</td>\n",
       "      <td>Feb</td>\n",
       "      <td>1</td>\n",
       "    </tr>\n",
       "    <tr>\n",
       "      <th>207266</th>\n",
       "      <td>992</td>\n",
       "      <td>2</td>\n",
       "      <td>2015-01-27</td>\n",
       "      <td>7267.0</td>\n",
       "      <td>798</td>\n",
       "      <td>1</td>\n",
       "      <td>1</td>\n",
       "      <td>0</td>\n",
       "      <td>0</td>\n",
       "      <td>a</td>\n",
       "      <td>a</td>\n",
       "      <td>2480.0</td>\n",
       "      <td>7</td>\n",
       "      <td>1990</td>\n",
       "      <td>0</td>\n",
       "      <td>5</td>\n",
       "      <td>2015</td>\n",
       "      <td>0</td>\n",
       "      <td>Jan</td>\n",
       "      <td>0</td>\n",
       "    </tr>\n",
       "  </tbody>\n",
       "</table>\n",
       "</div>"
      ],
      "text/plain": [
       "        store  day_of_week       date   sales  customers  open  promo  \\\n",
       "175572    518            2 2015-02-24  3961.0        393     1      0   \n",
       "552591    337            5 2014-02-21  5549.0        411     1      1   \n",
       "207266    992            2 2015-01-27  7267.0        798     1      1   \n",
       "\n",
       "       state_holiday  school_holiday store_type assortment  \\\n",
       "175572             0               0          d          c   \n",
       "552591             0               0          d          c   \n",
       "207266             0               0          a          a   \n",
       "\n",
       "        competition_distance  competition_open_since_month  \\\n",
       "175572                3330.0                             3   \n",
       "552591               10600.0                             7   \n",
       "207266                2480.0                             7   \n",
       "\n",
       "        competition_open_since_year  promo2  promo2_since_week  \\\n",
       "175572                         2015       1                 13   \n",
       "552591                         2005       1                 45   \n",
       "207266                         1990       0                  5   \n",
       "\n",
       "        promo2_since_year   promo_interval month_map  is_promo  \n",
       "175572               2010  Jan,Apr,Jul,Oct       Feb         0  \n",
       "552591               2014  Feb,May,Aug,Nov       Feb         1  \n",
       "207266               2015                0       Jan         0  "
      ]
     },
     "execution_count": 63,
     "metadata": {},
     "output_type": "execute_result"
    }
   ],
   "source": [
    "df1.sample(3)"
   ]
  },
  {
   "cell_type": "markdown",
   "id": "677cb92e",
   "metadata": {},
   "source": [
    "## 1.7 Descriptive Statistics"
   ]
  },
  {
   "cell_type": "markdown",
   "id": "5b785db6",
   "metadata": {},
   "source": [
    "This section is necessary to know better our business and also to identify tendencies, problems or anomalies in our dataset. "
   ]
  },
  {
   "cell_type": "markdown",
   "id": "4c75133b",
   "metadata": {},
   "source": [
    "Firstly, let's separate the data into numerical and categorical attributes:"
   ]
  },
  {
   "cell_type": "code",
   "execution_count": 64,
   "id": "ba0a79f2",
   "metadata": {},
   "outputs": [],
   "source": [
    "num_attributes = df1.select_dtypes(include=[\"int64\", \"float64\"])\n",
    "cat_attributes = df1.select_dtypes(exclude=[\"int64\", \"float64\", \"datetime64[ns]\"])"
   ]
  },
  {
   "cell_type": "code",
   "execution_count": 65,
   "id": "7c9e34f3",
   "metadata": {},
   "outputs": [
    {
     "data": {
      "text/plain": [
       "Index(['store', 'day_of_week', 'sales', 'customers', 'open', 'promo',\n",
       "       'school_holiday', 'competition_distance',\n",
       "       'competition_open_since_month', 'competition_open_since_year', 'promo2',\n",
       "       'promo2_since_week', 'promo2_since_year', 'is_promo'],\n",
       "      dtype='object')"
      ]
     },
     "execution_count": 65,
     "metadata": {},
     "output_type": "execute_result"
    }
   ],
   "source": [
    "num_attributes.columns"
   ]
  },
  {
   "cell_type": "code",
   "execution_count": 66,
   "id": "663b7a83",
   "metadata": {},
   "outputs": [
    {
     "data": {
      "text/plain": [
       "Index(['state_holiday', 'store_type', 'assortment', 'promo_interval',\n",
       "       'month_map'],\n",
       "      dtype='object')"
      ]
     },
     "execution_count": 66,
     "metadata": {},
     "output_type": "execute_result"
    }
   ],
   "source": [
    "cat_attributes.columns"
   ]
  },
  {
   "cell_type": "markdown",
   "id": "27547437",
   "metadata": {},
   "source": [
    "### 1.7.1. Numerical attributes"
   ]
  },
  {
   "cell_type": "markdown",
   "id": "a3eef142",
   "metadata": {},
   "source": [
    "In this section, we are goint to work with two types of metrics:\n",
    "\n",
    "1. Central tendency metrics: mean and median.\n",
    "2. Dispersion metrics: standard deviation, minimum, maximum, range, skewness, and kurtosis. "
   ]
  },
  {
   "cell_type": "code",
   "execution_count": 94,
   "id": "6b7e1f8e",
   "metadata": {},
   "outputs": [],
   "source": [
    "# Central tendency metrics\n",
    "c1 = pd.DataFrame(num_attributes.apply( np.mean )).T\n",
    "c2 = pd.DataFrame(num_attributes.apply( np.median )).T\n",
    "\n",
    "# Dispersion metrics\n",
    "d1 = pd.DataFrame(num_attributes.apply( np.std )).T\n",
    "d2 = pd.DataFrame(num_attributes.apply(lambda x: x.min() )).T\n",
    "d3 = pd.DataFrame(num_attributes.apply(lambda x: x.max() )).T\n",
    "d4 = pd.DataFrame(num_attributes.apply(lambda x: x.max() - x.min() )).T\n",
    "d5 = pd.DataFrame(num_attributes.apply(lambda x: x.skew() )).T\n",
    "d6 = pd.DataFrame(num_attributes.apply(lambda x: x.kurtosis() )).T\n",
    "\n",
    "# Concatenate metric\n",
    "m = pd.concat([d2, d3, d4, c1, c2, d1, d5, d6]).T.reset_index()\n",
    "m.columns = [\"attributes\", \"min\", \"max\", \"range\", \"mean\", \"median\", \"std\", \"skewness\", \"kurtosis\"]"
   ]
  },
  {
   "cell_type": "code",
   "execution_count": 95,
   "id": "63627fe0",
   "metadata": {},
   "outputs": [
    {
     "data": {
      "text/html": [
       "<div>\n",
       "<style scoped>\n",
       "    .dataframe tbody tr th:only-of-type {\n",
       "        vertical-align: middle;\n",
       "    }\n",
       "\n",
       "    .dataframe tbody tr th {\n",
       "        vertical-align: top;\n",
       "    }\n",
       "\n",
       "    .dataframe thead th {\n",
       "        text-align: right;\n",
       "    }\n",
       "</style>\n",
       "<table border=\"1\" class=\"dataframe\">\n",
       "  <thead>\n",
       "    <tr style=\"text-align: right;\">\n",
       "      <th></th>\n",
       "      <th>attributes</th>\n",
       "      <th>min</th>\n",
       "      <th>max</th>\n",
       "      <th>range</th>\n",
       "      <th>mean</th>\n",
       "      <th>median</th>\n",
       "      <th>std</th>\n",
       "      <th>skewness</th>\n",
       "      <th>kurtosis</th>\n",
       "    </tr>\n",
       "  </thead>\n",
       "  <tbody>\n",
       "    <tr>\n",
       "      <th>0</th>\n",
       "      <td>store</td>\n",
       "      <td>1.0</td>\n",
       "      <td>1115.0</td>\n",
       "      <td>1114.0</td>\n",
       "      <td>558.429727</td>\n",
       "      <td>558.0</td>\n",
       "      <td>321.908493</td>\n",
       "      <td>-0.000955</td>\n",
       "      <td>-1.200524</td>\n",
       "    </tr>\n",
       "    <tr>\n",
       "      <th>1</th>\n",
       "      <td>day_of_week</td>\n",
       "      <td>1.0</td>\n",
       "      <td>7.0</td>\n",
       "      <td>6.0</td>\n",
       "      <td>3.998341</td>\n",
       "      <td>4.0</td>\n",
       "      <td>1.997390</td>\n",
       "      <td>0.001593</td>\n",
       "      <td>-1.246873</td>\n",
       "    </tr>\n",
       "    <tr>\n",
       "      <th>2</th>\n",
       "      <td>sales</td>\n",
       "      <td>0.0</td>\n",
       "      <td>41551.0</td>\n",
       "      <td>41551.0</td>\n",
       "      <td>5773.818972</td>\n",
       "      <td>5744.0</td>\n",
       "      <td>3849.924283</td>\n",
       "      <td>0.641460</td>\n",
       "      <td>1.778375</td>\n",
       "    </tr>\n",
       "    <tr>\n",
       "      <th>3</th>\n",
       "      <td>customers</td>\n",
       "      <td>0.0</td>\n",
       "      <td>7388.0</td>\n",
       "      <td>7388.0</td>\n",
       "      <td>633.145946</td>\n",
       "      <td>609.0</td>\n",
       "      <td>464.411506</td>\n",
       "      <td>1.598650</td>\n",
       "      <td>7.091773</td>\n",
       "    </tr>\n",
       "    <tr>\n",
       "      <th>4</th>\n",
       "      <td>open</td>\n",
       "      <td>0.0</td>\n",
       "      <td>1.0</td>\n",
       "      <td>1.0</td>\n",
       "      <td>0.830107</td>\n",
       "      <td>1.0</td>\n",
       "      <td>0.375539</td>\n",
       "      <td>-1.758045</td>\n",
       "      <td>1.090723</td>\n",
       "    </tr>\n",
       "    <tr>\n",
       "      <th>5</th>\n",
       "      <td>promo</td>\n",
       "      <td>0.0</td>\n",
       "      <td>1.0</td>\n",
       "      <td>1.0</td>\n",
       "      <td>0.381515</td>\n",
       "      <td>0.0</td>\n",
       "      <td>0.485758</td>\n",
       "      <td>0.487838</td>\n",
       "      <td>-1.762018</td>\n",
       "    </tr>\n",
       "    <tr>\n",
       "      <th>6</th>\n",
       "      <td>school_holiday</td>\n",
       "      <td>0.0</td>\n",
       "      <td>1.0</td>\n",
       "      <td>1.0</td>\n",
       "      <td>0.178647</td>\n",
       "      <td>0.0</td>\n",
       "      <td>0.383056</td>\n",
       "      <td>1.677842</td>\n",
       "      <td>0.815154</td>\n",
       "    </tr>\n",
       "    <tr>\n",
       "      <th>7</th>\n",
       "      <td>competition_distance</td>\n",
       "      <td>20.0</td>\n",
       "      <td>200000.0</td>\n",
       "      <td>199980.0</td>\n",
       "      <td>5935.442677</td>\n",
       "      <td>2330.0</td>\n",
       "      <td>12547.646829</td>\n",
       "      <td>10.242344</td>\n",
       "      <td>147.789712</td>\n",
       "    </tr>\n",
       "    <tr>\n",
       "      <th>8</th>\n",
       "      <td>competition_open_since_month</td>\n",
       "      <td>1.0</td>\n",
       "      <td>12.0</td>\n",
       "      <td>11.0</td>\n",
       "      <td>6.786849</td>\n",
       "      <td>7.0</td>\n",
       "      <td>3.311085</td>\n",
       "      <td>-0.042076</td>\n",
       "      <td>-1.232607</td>\n",
       "    </tr>\n",
       "    <tr>\n",
       "      <th>9</th>\n",
       "      <td>competition_open_since_year</td>\n",
       "      <td>1900.0</td>\n",
       "      <td>2015.0</td>\n",
       "      <td>115.0</td>\n",
       "      <td>2010.324840</td>\n",
       "      <td>2012.0</td>\n",
       "      <td>5.515591</td>\n",
       "      <td>-7.235657</td>\n",
       "      <td>124.071304</td>\n",
       "    </tr>\n",
       "    <tr>\n",
       "      <th>10</th>\n",
       "      <td>promo2</td>\n",
       "      <td>0.0</td>\n",
       "      <td>1.0</td>\n",
       "      <td>1.0</td>\n",
       "      <td>0.500564</td>\n",
       "      <td>1.0</td>\n",
       "      <td>0.500000</td>\n",
       "      <td>-0.002255</td>\n",
       "      <td>-1.999999</td>\n",
       "    </tr>\n",
       "    <tr>\n",
       "      <th>11</th>\n",
       "      <td>promo2_since_week</td>\n",
       "      <td>1.0</td>\n",
       "      <td>52.0</td>\n",
       "      <td>51.0</td>\n",
       "      <td>23.619033</td>\n",
       "      <td>22.0</td>\n",
       "      <td>14.310057</td>\n",
       "      <td>0.178723</td>\n",
       "      <td>-1.184046</td>\n",
       "    </tr>\n",
       "    <tr>\n",
       "      <th>12</th>\n",
       "      <td>promo2_since_year</td>\n",
       "      <td>2009.0</td>\n",
       "      <td>2015.0</td>\n",
       "      <td>6.0</td>\n",
       "      <td>2012.793297</td>\n",
       "      <td>2013.0</td>\n",
       "      <td>1.662657</td>\n",
       "      <td>-0.784436</td>\n",
       "      <td>-0.210075</td>\n",
       "    </tr>\n",
       "    <tr>\n",
       "      <th>13</th>\n",
       "      <td>is_promo</td>\n",
       "      <td>0.0</td>\n",
       "      <td>1.0</td>\n",
       "      <td>1.0</td>\n",
       "      <td>0.165966</td>\n",
       "      <td>0.0</td>\n",
       "      <td>0.372050</td>\n",
       "      <td>1.795644</td>\n",
       "      <td>1.224338</td>\n",
       "    </tr>\n",
       "  </tbody>\n",
       "</table>\n",
       "</div>"
      ],
      "text/plain": [
       "                      attributes     min       max     range         mean  \\\n",
       "0                          store     1.0    1115.0    1114.0   558.429727   \n",
       "1                    day_of_week     1.0       7.0       6.0     3.998341   \n",
       "2                          sales     0.0   41551.0   41551.0  5773.818972   \n",
       "3                      customers     0.0    7388.0    7388.0   633.145946   \n",
       "4                           open     0.0       1.0       1.0     0.830107   \n",
       "5                          promo     0.0       1.0       1.0     0.381515   \n",
       "6                 school_holiday     0.0       1.0       1.0     0.178647   \n",
       "7           competition_distance    20.0  200000.0  199980.0  5935.442677   \n",
       "8   competition_open_since_month     1.0      12.0      11.0     6.786849   \n",
       "9    competition_open_since_year  1900.0    2015.0     115.0  2010.324840   \n",
       "10                        promo2     0.0       1.0       1.0     0.500564   \n",
       "11             promo2_since_week     1.0      52.0      51.0    23.619033   \n",
       "12             promo2_since_year  2009.0    2015.0       6.0  2012.793297   \n",
       "13                      is_promo     0.0       1.0       1.0     0.165966   \n",
       "\n",
       "    median           std   skewness    kurtosis  \n",
       "0    558.0    321.908493  -0.000955   -1.200524  \n",
       "1      4.0      1.997390   0.001593   -1.246873  \n",
       "2   5744.0   3849.924283   0.641460    1.778375  \n",
       "3    609.0    464.411506   1.598650    7.091773  \n",
       "4      1.0      0.375539  -1.758045    1.090723  \n",
       "5      0.0      0.485758   0.487838   -1.762018  \n",
       "6      0.0      0.383056   1.677842    0.815154  \n",
       "7   2330.0  12547.646829  10.242344  147.789712  \n",
       "8      7.0      3.311085  -0.042076   -1.232607  \n",
       "9   2012.0      5.515591  -7.235657  124.071304  \n",
       "10     1.0      0.500000  -0.002255   -1.999999  \n",
       "11    22.0     14.310057   0.178723   -1.184046  \n",
       "12  2013.0      1.662657  -0.784436   -0.210075  \n",
       "13     0.0      0.372050   1.795644    1.224338  "
      ]
     },
     "execution_count": 95,
     "metadata": {},
     "output_type": "execute_result"
    }
   ],
   "source": [
    "m"
   ]
  },
  {
   "cell_type": "markdown",
   "id": "c83ae14d",
   "metadata": {},
   "source": [
    "**Skewness:** how much a distribution of data deviates from a normal distribution.\n",
    "\n",
    "1. Median greater than mean: right or negative skewness (mean minus median).\n",
    "2. Median less than mean: left or positive skewness (mean minus median).\n",
    "3. The median will always be in the direction of the highest concentration.\n",
    "4. Median equals mean: normal distribution = no skewness.\n",
    "\n",
    "ML algorithms need to train with unbiased data, that is, the distribution of the response variable (target) needs to be closer to a normal distribution.\n",
    "\n",
    "Based on metrics above, we may see that mean is very close to the median. In some cases, they are so close to each other (according to the range) that two first rules does not match. However, it is good result because that means the distribution is very similar to a normal one and the Machine Learning model will not deal with a biased dataset.  "
   ]
  },
  {
   "cell_type": "markdown",
   "id": "8f28652f",
   "metadata": {},
   "source": [
    "**Kurtosis:** data distribution around the mean and the existence of long tails. High kurtosis: concentration around the mean. A high kurtosis can bias the model."
   ]
  },
  {
   "cell_type": "code",
   "execution_count": 149,
   "id": "82ed605f",
   "metadata": {},
   "outputs": [
    {
     "name": "stderr",
     "output_type": "stream",
     "text": [
      "/opt/anaconda3/lib/python3.9/site-packages/seaborn/distributions.py:2619: FutureWarning: `distplot` is a deprecated function and will be removed in a future version. Please adapt your code to use either `displot` (a figure-level function with similar flexibility) or `histplot` (an axes-level function for histograms).\n",
      "  warnings.warn(msg, FutureWarning)\n",
      "/opt/anaconda3/lib/python3.9/site-packages/seaborn/distributions.py:2619: FutureWarning: `distplot` is a deprecated function and will be removed in a future version. Please adapt your code to use either `displot` (a figure-level function with similar flexibility) or `histplot` (an axes-level function for histograms).\n",
      "  warnings.warn(msg, FutureWarning)\n",
      "/opt/anaconda3/lib/python3.9/site-packages/seaborn/distributions.py:2619: FutureWarning: `distplot` is a deprecated function and will be removed in a future version. Please adapt your code to use either `displot` (a figure-level function with similar flexibility) or `histplot` (an axes-level function for histograms).\n",
      "  warnings.warn(msg, FutureWarning)\n"
     ]
    },
    {
     "data": {
      "image/png": "[encoded data removed]",
      "text/plain": [
       "<Figure size 2000x600 with 3 Axes>"
      ]
     },
     "metadata": {},
     "output_type": "display_data"
    }
   ],
   "source": [
    "plt.figure(figsize = (20,6))\n",
    "\n",
    "plt.subplot(131)\n",
    "sns.distplot(df1[\"sales\"])\n",
    "\n",
    "plt.subplot(132)\n",
    "sns.distplot(df1[\"competition_distance\"])\n",
    "\n",
    "plt.subplot(133)\n",
    "sns.distplot(df1[\"competition_open_since_year\"])\n",
    "\n",
    "plt.subplots_adjust(wspace = 0.4)"
   ]
  },
  {
   "cell_type": "markdown",
   "id": "21d5b6dc",
   "metadata": {},
   "source": [
    "1. For sales, which is our target, kurtosis is close to 1. This means the peak is not very high. Since median is less than mean, with sknewness around 0.64, we see a slightly left skewness. This value of skew is closer to a normal distribution. This considerations may be seen in the distribution chart for sales.\n",
    "\n",
    "2. However, for competition distance, kurtosis is around 147. This represents a high peak and the existence of long tails. As the median is a way less than the mean, this results in skewness around 10. We may see a very proeminent skewness to the left in the distribution chart for competition distance.\n",
    "\n",
    "3. A different behavior may be seen in the distribution chart for competition open since year. It has a -7 skewness, which represents a proeminent right skew. Since kurtosis is around 124, we see a high peak and a long tail in the distribution chart."
   ]
  },
  {
   "cell_type": "markdown",
   "id": "7bc33b0c",
   "metadata": {},
   "source": [
    "### 1.7.2. Categorical attributes"
   ]
  },
  {
   "cell_type": "markdown",
   "id": "ee1a2565",
   "metadata": {},
   "source": [
    "Let's begin with the unique value of each categorical attribute:"
   ]
  },
  {
   "cell_type": "code",
   "execution_count": 113,
   "id": "36814989",
   "metadata": {},
   "outputs": [
    {
     "data": {
      "text/plain": [
       "state_holiday      4\n",
       "store_type         4\n",
       "assortment         3\n",
       "promo_interval     4\n",
       "month_map         12\n",
       "dtype: int64"
      ]
     },
     "execution_count": 113,
     "metadata": {},
     "output_type": "execute_result"
    }
   ],
   "source": [
    "cat_attributes.apply(lambda x: x.unique().shape[0] )"
   ]
  },
  {
   "cell_type": "code",
   "execution_count": 111,
   "id": "6b114ce0",
   "metadata": {},
   "outputs": [
    {
     "data": {
      "text/plain": [
       "state_holiday                                          [0, a, b, c]\n",
       "store_type                                             [c, a, d, b]\n",
       "assortment                                                [a, c, b]\n",
       "promo_interval    [0, Jan,Apr,Jul,Oct, Feb,May,Aug,Nov, Mar,Jun,...\n",
       "month_map         [Jul, Jun, May, Apr, Mar, Feb, Jan, Dec, Nov, ...\n",
       "dtype: object"
      ]
     },
     "execution_count": 111,
     "metadata": {},
     "output_type": "execute_result"
    }
   ],
   "source": [
    "cat_attributes.apply(lambda x: x.unique() )"
   ]
  },
  {
   "cell_type": "code",
   "execution_count": 140,
   "id": "250f805e",
   "metadata": {},
   "outputs": [
    {
     "data": {
      "image/png": "[encoded data removed]",
      "text/plain": [
       "<Figure size 1500x400 with 3 Axes>"
      ]
     },
     "metadata": {},
     "output_type": "display_data"
    }
   ],
   "source": [
    "plt.figure(figsize = (15,4))\n",
    "\n",
    "plt.subplot(131)\n",
    "sns.boxplot(x=\"state_holiday\" , y=\"sales\", data=df1)\n",
    "plt.xlabel(\"State holiday\", fontsize=10)\n",
    "\n",
    "plt.subplot(132)\n",
    "sns.boxplot(x=\"store_type\" , y=\"sales\", data=df1)\n",
    "plt.xlabel(\"Store type\", fontsize=10)\n",
    "\n",
    "\n",
    "plt.subplot(133)\n",
    "sns.boxplot(x=\"assortment\" , y=\"sales\", data=df1)\n",
    "plt.xlabel(\"Assortment\", fontsize=10)\n",
    "\n",
    "plt.subplots_adjust(wspace = 0.5)"
   ]
  },
  {
   "cell_type": "markdown",
   "id": "d55f903d",
   "metadata": {},
   "source": [
    "For state holiday, we may perform a treatment. As we desire to see only the bevaior of holidays, we should ignore when this field is 0. Additionally, we must avoid when the sales are equal to 0. By doing this, we may see a better chart."
   ]
  },
  {
   "cell_type": "code",
   "execution_count": 172,
   "id": "ef85e646",
   "metadata": {},
   "outputs": [
    {
     "data": {
      "text/plain": [
       "Text(0.5, 0, 'State holiday')"
      ]
     },
     "execution_count": 172,
     "metadata": {},
     "output_type": "execute_result"
    },
    {
     "data": {
      "image/png": "[encoded data removed]",
      "text/plain": [
       "<Figure size 1200x600 with 1 Axes>"
      ]
     },
     "metadata": {},
     "output_type": "display_data"
    }
   ],
   "source": [
    "plt.figure(figsize = (12, 6))\n",
    "\n",
    "aux1 = df1[(df1[\"state_holiday\"] != \"0\") & (df1[\"sales\"] > 0)]\n",
    "sns.boxplot(x=\"state_holiday\" , y=\"sales\", data=aux1)\n",
    "plt.xlabel(\"State holiday\", fontsize=10)"
   ]
  },
  {
   "cell_type": "markdown",
   "id": "151b3711",
   "metadata": {},
   "source": [
    "1. We have higher sales for stete holidays of type b and c. Yet, b has a more homogeneous distribution around the median, that's it, for 25 and 75 quartiles.\n",
    "2. Store type b has the highest sales values.\n",
    "3. Assertment c presented the highest values for sales and also has much less outliers."
   ]
  },
  {
   "cell_type": "code",
   "execution_count": 139,
   "id": "c3630dcd",
   "metadata": {},
   "outputs": [
    {
     "data": {
      "image/png": "[encoded data removed]",
      "text/plain": [
       "<Figure size 1700x400 with 2 Axes>"
      ]
     },
     "metadata": {},
     "output_type": "display_data"
    }
   ],
   "source": [
    "plt.figure(figsize = (17,4))\n",
    "\n",
    "plt.subplot(121)\n",
    "sns.boxplot(x=\"promo_interval\" , y=\"sales\", data=df1)\n",
    "plt.xlabel(\"Promotion interval\", fontsize=10)\n",
    "\n",
    "plt.subplot(122)\n",
    "sns.boxplot(x=\"month_map\" , y=\"sales\", data=df1)\n",
    "plt.xlabel(\"Month map\", fontsize=10)\n",
    "\n",
    "plt.subplots_adjust(wspace = 0.5)"
   ]
  },
  {
   "cell_type": "code",
   "execution_count": 174,
   "id": "ec751449",
   "metadata": {},
   "outputs": [
    {
     "data": {
      "text/plain": [
       "Text(0.5, 0, 'Promotion interval')"
      ]
     },
     "execution_count": 174,
     "metadata": {},
     "output_type": "execute_result"
    },
    {
     "data": {
      "image/png": "[encoded data removed]",
      "text/plain": [
       "<Figure size 1200x600 with 1 Axes>"
      ]
     },
     "metadata": {},
     "output_type": "display_data"
    }
   ],
   "source": [
    "plt.figure(figsize = (12, 6))\n",
    "\n",
    "aux2 = df1[(df1[\"promo_interval\"] != 0) & (df1[\"sales\"] > 0)]\n",
    "sns.boxplot(x=\"promo_interval\" , y=\"sales\", data=aux2)\n",
    "plt.xlabel(\"Promotion interval\", fontsize=10)"
   ]
  },
  {
   "cell_type": "markdown",
   "id": "df449760",
   "metadata": {},
   "source": [
    "1. Promotion interval equals to Jan, Apr, Jul, Oct presented a slightly higher sales. \n",
    "2. December is the month with the highest sales. "
   ]
  },
  {
   "cell_type": "markdown",
   "id": "2e6b5c77",
   "metadata": {},
   "source": [
    "# 2. Feature Engineering"
   ]
  },
  {
   "cell_type": "code",
   "execution_count": 186,
   "id": "0c0b10b3",
   "metadata": {},
   "outputs": [
    {
     "data": {
      "image/png": "[encoded data removed]",
      "text/plain": [
       "<IPython.core.display.Image object>"
      ]
     },
     "execution_count": 186,
     "metadata": {},
     "output_type": "execute_result"
    }
   ],
   "source": [
    "Image(\"images/MindMapRossmann.png\")"
   ]
  },
  {
   "cell_type": "code",
   "execution_count": null,
   "id": "3deaf7ab",
   "metadata": {},
   "outputs": [],
   "source": []
  }
 ],
 "metadata": {
  "kernelspec": {
   "display_name": "Python 3 (ipykernel)",
   "language": "python",
   "name": "python3"
  },
  "language_info": {
   "codemirror_mode": {
    "name": "ipython",
    "version": 3
   },
   "file_extension": ".py",
   "mimetype": "text/x-python",
   "name": "python",
   "nbconvert_exporter": "python",
   "pygments_lexer": "ipython3",
   "version": "3.9.13"
  }
 },
 "nbformat": 4,
 "nbformat_minor": 5
}
